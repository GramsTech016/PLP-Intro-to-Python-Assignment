{
 "cells": [
  {
   "cell_type": "code",
   "execution_count": 1,
   "id": "bbd8fec4",
   "metadata": {},
   "outputs": [
    {
     "name": "stdout",
     "output_type": "stream",
     "text": [
      "❌ Error: Invalid operation\n",
      "✅ The result is: 9.0\n",
      "Goodbye 👋\n"
     ]
    }
   ],
   "source": [
    "def calculator():\n",
    "    while True:\n",
    "        # Ask the user which operation\n",
    "        c = input(\"\\nWhat Mathematical operation would you like to perform?\\n\"\n",
    "                  \"Add\\n\"\n",
    "                  \"Sub\\n\"\n",
    "                  \"Div\\n\"\n",
    "                  \"Mult\\n\"\n",
    "                  \"Type 'Exit' to quit\\n\")\n",
    "\n",
    "        if c == \"Exit\":\n",
    "            print(\"Goodbye 👋\")\n",
    "            break\n",
    "\n",
    "        # Ask for numbers\n",
    "        try:\n",
    "            a = float(input(\"Enter the first number: \"))\n",
    "            b = float(input(\"Enter the second number: \"))\n",
    "        except ValueError:\n",
    "            print(\"❌ Invalid number, please try again.\")\n",
    "            continue\n",
    "\n",
    "        # Perform the operation\n",
    "        if c == \"Add\":\n",
    "            result = a + b\n",
    "        elif c == \"Sub\":\n",
    "            result = a - b\n",
    "        elif c == \"Div\":\n",
    "            # Handle division by zero\n",
    "            if b == 0:\n",
    "                print(\"❌ Error: Division by zero not allowed\")\n",
    "                continue\n",
    "            result = a / b\n",
    "        elif c == \"Mult\":\n",
    "            result = a * b\n",
    "        else:\n",
    "            print(\"❌ Error: Invalid operation\")\n",
    "            continue\n",
    "\n",
    "        print(\"✅ The result is:\", result)\n",
    "\n",
    "\n",
    "# Run the calculator\n",
    "calculator()\n"
   ]
  },
  {
   "cell_type": "code",
   "execution_count": null,
   "id": "3070ecbd",
   "metadata": {},
   "outputs": [],
   "source": []
  }
 ],
 "metadata": {
  "kernelspec": {
   "display_name": "base",
   "language": "python",
   "name": "python3"
  },
  "language_info": {
   "codemirror_mode": {
    "name": "ipython",
    "version": 3
   },
   "file_extension": ".py",
   "mimetype": "text/x-python",
   "name": "python",
   "nbconvert_exporter": "python",
   "pygments_lexer": "ipython3",
   "version": "3.12.7"
  }
 },
 "nbformat": 4,
 "nbformat_minor": 5
}
